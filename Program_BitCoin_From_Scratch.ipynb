{
  "nbformat": 4,
  "nbformat_minor": 0,
  "metadata": {
    "colab": {
      "name": "Program BitCoin From Scratch.ipynb",
      "provenance": [],
      "collapsed_sections": [],
      "authorship_tag": "ABX9TyNXTpUsOYCM9YUiYo+fgcAJ"
    },
    "kernelspec": {
      "name": "python3",
      "display_name": "Python 3"
    }
  },
  "cells": [
    {
      "cell_type": "markdown",
      "metadata": {
        "id": "8jH6s9HNUd_G",
        "colab_type": "text"
      },
      "source": [
        "# PROGRAMMING BITCOIN FROM SCRATCH\n",
        "\n",
        "\n",
        "These are my notes from the book, Programming Bitcoin from scratch by O'Reilly Publication.\n",
        "\n",
        "Contents:\n",
        "1. [Finite Fields](#finite-fields)\n",
        "  * [Finite Sets](#finite-sets) \n",
        "  * [Constructing a Finite Field in Python](#finite-field-python)\n",
        "  * [Modulo Arithmetic](#modulo-arithmetic)\n",
        "  * [Fermat's Theorem](#fermats-theorem)\n",
        "2. [Elliptic Curves](#elliptic-curves)\n"
      ]
    },
    {
      "cell_type": "markdown",
      "metadata": {
        "id": "iQ0DVUzmVf5m",
        "colab_type": "text"
      },
      "source": [
        "<a name=\"finite-fields\"></a>\n",
        "## Finite Fields\n",
        "\n",
        "```\n",
        "Finite Fields are also called Galois Fields\n",
        "```\n",
        "\n",
        "Mathematically, a **finite field** is defined as a **finite set of numbers** and two operations +\n",
        "(addition) and ⋅ (multiplication) that satisfy the following:\n",
        "1. If a and b are in the set, a + b and a ⋅ b are in the set. **We call this property closed**.\n",
        "2. 0 exists and has the property a + 0 = a. We call this the **additive identity**.\n",
        "3. 1 exists and has the property a ⋅ 1 = a. We call this the **multiplicative identity**.\n",
        "4. If a is in the set, –a is in the set, which is defined as the value that makes a + (–a)\n",
        "= 0. This is what we call the **additive inverse**. Using the Additive Inverse, one can define Subtraction.\n",
        "5. If a is in the set and is not 0, a<sup>–1</sup> is in the set, which is defined as the value that\n",
        "makes a ⋅ a<sup>–1</sup> = 1. This is what we call the **multiplicative inverse**. Using the Multiplicative Inverse one can define Division.\n",
        "\n",
        "\n"
      ]
    },
    {
      "cell_type": "markdown",
      "metadata": {
        "id": "AxLApptMaDaB",
        "colab_type": "text"
      },
      "source": [
        "<a name=\"finite-sets\"></a>\n",
        "### Finite Sets\n",
        "\n",
        "Mathematically, a Finite Field Set of order p can be represented as:\n",
        ">F<sub>p</sub> = {0,1,2,... p-1}\n",
        "where the order of the set refers to the size of the set F<sub>p</sub>\n",
        "\n",
        "```\n",
        "Fields must have an order that is a power of a prime.\n",
        "```\n",
        "\n",
        "\n",
        "\n"
      ]
    },
    {
      "cell_type": "markdown",
      "metadata": {
        "id": "kKisE_yEc4RJ",
        "colab_type": "text"
      },
      "source": [
        "<a name=\"finite-field-python\"></a>\n",
        "#### Constructing a Finite Field in Python\n"
      ]
    },
    {
      "cell_type": "code",
      "metadata": {
        "id": "GCE5CqnlVilq",
        "colab_type": "code",
        "colab": {}
      },
      "source": [
        "class FieldElement:\n",
        "  num : int = None\n",
        "  prime : int = None\n",
        "\n",
        "  def __init__(self, num : int, prime : int):\n",
        "    if (num>=prime) or (num<0) :\n",
        "      error = 'Number {} entered is not in the field range of 0 to {}'.format(num,prime-1)\n",
        "      raise ValueError(error)\n",
        "    \n",
        "    self.num = num\n",
        "    self.prime = prime\n",
        "  \n",
        "  def __repr__(self) -> str:\n",
        "    return 'FieldElement_{}({})'.format(self.prime,self.num)\n",
        "  \n",
        "  def __eq__(self, other) -> bool:\n",
        "    if other is None:\n",
        "      return False\n",
        "    return self.num == other.num and self.prime == other.prime\n",
        "  \n",
        "  def __ne__(self, other) -> bool:\n",
        "    if other is None or type(other) is not FieldElement:\n",
        "      return False\n",
        "    return self.num != other.num and self.prime != other.prime"
      ],
      "execution_count": null,
      "outputs": []
    },
    {
      "cell_type": "markdown",
      "metadata": {
        "id": "Mq2Rss5tjfjM",
        "colab_type": "text"
      },
      "source": [
        "<a name=\"modulo-arithmetic\"></a>\n",
        "\n",
        "#### Modulo Arithmetic\n",
        "\n",
        "Modulo Arithmetic of any element **a** by element **b** where a, b belong to the same finite field yields the remainder in the process of division of a by b.\n",
        "\n",
        ">a%b = a **mod** (b)\n",
        "\n",
        ">a ≡  n **mod**(b)\n",
        "\n",
        "\n"
      ]
    },
    {
      "cell_type": "markdown",
      "metadata": {
        "id": "K_IftyOLmghL",
        "colab_type": "text"
      },
      "source": [
        "#### Finite Field Addition, Subtraction, Multiplication & Division\n",
        "\n",
        "The Arithmetic Operation of a Finite Field must have modular properties. It is due to the Modular property, the Finite Fields are closed under these operations.\n",
        "\n",
        "Let us say we have a finite field of order 7,\n",
        "f<sub>7</sub> = {0,1,2,3,4,5,6}.\n",
        "\n",
        "Let us operate on 5 and 6:\n",
        "> **5 + 6 = 11**\n",
        "\n",
        "But 11 is not in F<sub>7</sub>\n",
        "> **5 x 6 = 30**\n",
        "\n",
        "But 30 is not in F<sub>7</sub>\n",
        "> **5 - 6 = -1**\n",
        "\n",
        "But -1 is not in F<sub>7</sub>\n",
        "\n",
        "\n",
        "But we have asserted that the Finite Field is closed under all these operations. To make this possible, we combine the modulo with these operations.\n",
        "\n",
        "\n",
        "a **o** b = (a **o** b) **mod** p\n",
        "where **p** is the order of the Finite Field \n",
        "\n",
        "\n",
        "Let us operate on 5 and 6:\n",
        "> **5 + 6 = 11%7 = 4**\n",
        "\n",
        "> **5 x 6 = 30%7 = 2**\n",
        "\n",
        "> **5 - 6 = -1%7 = 6**\n",
        "\n",
        "4, 2, 6 are present in F<sub>7</sub>\n",
        "\n",
        "We can write a **o** b = (a **o** b) **mod** p in a contracted form using the following notation:\n",
        "\n",
        "> a **o<sub>f</sub>** b = (a **o** b)**%**p\n",
        "\n",
        "\n",
        "\n"
      ]
    },
    {
      "cell_type": "code",
      "metadata": {
        "id": "djBAkQfHmhLp",
        "colab_type": "code",
        "colab": {}
      },
      "source": [
        "class FieldElement:\n",
        "  num : int = None\n",
        "  prime : int = None\n",
        "\n",
        "  def __init__(self, num : int, prime : int):\n",
        "    if (num>=prime) or (num<0) :\n",
        "      error = 'Number {} entered is not in the field range of 0 to {}'.format(num,prime-1)\n",
        "      raise ValueError(error)\n",
        "    \n",
        "    self.num = num\n",
        "    self.prime = prime\n",
        "  \n",
        "  def __repr__(self) -> str:\n",
        "    return 'FieldElement_{}({})'.format(self.prime,self.num)\n",
        "  \n",
        "  def __eq__(self, other) -> bool:\n",
        "    if other is None:\n",
        "      return False\n",
        "    return self.num == other.num and self.prime == other.prime\n",
        "  \n",
        "  def __ne__(self, other) -> bool:\n",
        "    if other is None or type(other) is not FieldElement:\n",
        "      return False\n",
        "    return self.num != other.num and self.prime != other.prime\n",
        "  \n",
        "  def __add__(self, other):\n",
        "    if other is None or type(other) is not self.__class__:\n",
        "      error = \"{} is not an element of type Finite Field\".format(other)\n",
        "      raise TypeError(error)\n",
        "    \n",
        "    elif other.prime != self.prime:\n",
        "      error = \"{} does not belong to the Field of {}\".format(other.num,self.num)\n",
        "      raise TypeError(error)\n",
        "    \n",
        "    mod_sum = (self.num+other.num)%self.prime \n",
        "    return self.__class__(mod_sum,self.prime)\n",
        "  \n",
        "  def __sub__(self, other):\n",
        "    if other is None or type(other) is not self.__class__:\n",
        "      error = \"{} is not an element of type Finite Field\".format(other)\n",
        "      raise TypeError(error)\n",
        "    \n",
        "    elif other.prime != self.prime:\n",
        "      error = \"{} does not belong to the Field of {}\".format(other.num,self.num)\n",
        "      raise TypeError(error)\n",
        "    \n",
        "    mod_difference = (self.prime + self.num-other.num)%self.prime \n",
        "    return self.__class__(mod_difference,self.prime)\n",
        "\n",
        "  def __mul__(self, other):\n",
        "    if other is None or type(other) is not self.__class__:\n",
        "      error = \"{} is not an element of type Finite Field\".format(other)\n",
        "      raise TypeError(error)\n",
        "    \n",
        "    elif other.prime != self.prime:\n",
        "      error = \"{} does not belong to the Field of {}\".format(other.num,self.num)\n",
        "      raise TypeError(error)\n",
        "    \n",
        "    mod_prod = (self.num*other.num)%self.prime \n",
        "    return self.__class__(mod_prod,self.prime)\n",
        "  \n",
        "  def __pow__(self, exponent):\n",
        "    mod_power = (self.num**exponent)%self.prime \n",
        "    return self.__class__(mod_power,self.prime)"
      ],
      "execution_count": 51,
      "outputs": []
    },
    {
      "cell_type": "markdown",
      "metadata": {
        "id": "uxvZZxnV1X7b",
        "colab_type": "text"
      },
      "source": [
        "<a name=\"fermats-theorem\"></a>\n",
        "\n",
        "#### Fermat's Theorem"
      ]
    },
    {
      "cell_type": "code",
      "metadata": {
        "id": "rjAEgXch1ayQ",
        "colab_type": "code",
        "colab": {}
      },
      "source": [
        ""
      ],
      "execution_count": null,
      "outputs": []
    }
  ]
}