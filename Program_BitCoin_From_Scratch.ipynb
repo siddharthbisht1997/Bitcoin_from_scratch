{
  "nbformat": 4,
  "nbformat_minor": 0,
  "metadata": {
    "colab": {
      "name": "Program BitCoin From Scratch.ipynb",
      "provenance": [],
      "collapsed_sections": [],
      "authorship_tag": "ABX9TyNvMGu1R1i0p37eAgncrlUz"
    },
    "kernelspec": {
      "name": "python3",
      "display_name": "Python 3"
    }
  },
  "cells": [
    {
      "cell_type": "markdown",
      "metadata": {
        "id": "8jH6s9HNUd_G",
        "colab_type": "text"
      },
      "source": [
        "# PROGRAMMING BITCOIN FROM SCRATCH\n",
        "\n",
        "\n",
        "These are my notes from the book, Programming Bitcoin from scratch by O'Reilly Publication.\n",
        "\n",
        "Contents:\n",
        "1. [Groups and Fields](#groups-fields)\n",
        "2. [Finite Fields](#finite-fields)\n",
        "  * [Finite Sets](#finite-sets) \n",
        "  * [Constructing a Finite Field in Python](#finite-field-python)\n",
        "  * [Modulo Arithmetic](#modulo-arithmetic)\n",
        "  * [Fermat's Little Theorem](#fermats-theorem)\n",
        "3. [Elliptic Curves](#elliptic-curves)\n",
        "  * [Definition](#el-def)\n"
      ]
    },
    {
      "cell_type": "markdown",
      "metadata": {
        "id": "kJm-DBfLGBZS",
        "colab_type": "text"
      },
      "source": [
        "<a name=\"groups-fields\"></a>\n",
        "\n",
        "## Groups and Fields\n",
        "\n",
        "\n"
      ]
    },
    {
      "cell_type": "markdown",
      "metadata": {
        "id": "iQ0DVUzmVf5m",
        "colab_type": "text"
      },
      "source": [
        "<a name=\"finite-fields\"></a>\n",
        "## Finite Fields\n",
        "\n",
        "```\n",
        "Finite Fields are also called Galois Fields\n",
        "```\n",
        "\n",
        "Mathematically, a **finite field** is defined as a **finite set of numbers** and two operations +\n",
        "(addition) and ⋅ (multiplication) that satisfy the following:\n",
        "1. If a and b are in the set, a + b and a ⋅ b are in the set. **We call this property closed**.\n",
        "2. 0 exists and has the property a + 0 = a. We call this the **additive identity**.\n",
        "3. 1 exists and has the property a ⋅ 1 = a. We call this the **multiplicative identity**.\n",
        "4. If a is in the set, –a is in the set, which is defined as the value that makes a + (–a)\n",
        "= 0. This is what we call the **additive inverse**. Using the Additive Inverse, one can define Subtraction.\n",
        "5. If a is in the set and is not 0, a<sup>–1</sup> is in the set, which is defined as the value that\n",
        "makes a ⋅ a<sup>–1</sup> = 1. This is what we call the **multiplicative inverse**. Using the Multiplicative Inverse one can define Division.\n",
        "\n",
        "\n"
      ]
    },
    {
      "cell_type": "markdown",
      "metadata": {
        "id": "AxLApptMaDaB",
        "colab_type": "text"
      },
      "source": [
        "<a name=\"finite-sets\"></a>\n",
        "### Finite Sets\n",
        "\n",
        "Mathematically, a Finite Field Set of order p can be represented as:\n",
        ">F<sub>p</sub> = {0,1,2,... p-1}\n",
        "where the order of the set refers to the size of the set F<sub>p</sub>\n",
        "\n",
        "```\n",
        "Fields must have an order that is a power of a prime.\n",
        "```\n",
        "\n",
        "\n",
        "\n"
      ]
    },
    {
      "cell_type": "markdown",
      "metadata": {
        "id": "kKisE_yEc4RJ",
        "colab_type": "text"
      },
      "source": [
        "<a name=\"finite-field-python\"></a>\n",
        "#### Constructing a Finite Field in Python\n"
      ]
    },
    {
      "cell_type": "code",
      "metadata": {
        "id": "GCE5CqnlVilq",
        "colab_type": "code",
        "colab": {}
      },
      "source": [
        "class FieldElement:\n",
        "  num : int = None\n",
        "  prime : int = None\n",
        "\n",
        "  def __init__(self, num : int, prime : int):\n",
        "    if (num>=prime) or (num<0) :\n",
        "      error = 'Number {} entered is not in the field range of 0 to {}'.format(num,prime-1)\n",
        "      raise ValueError(error)\n",
        "    \n",
        "    self.num = num\n",
        "    self.prime = prime\n",
        "  \n",
        "  def __repr__(self) -> str:\n",
        "    return 'FieldElement_{}({})'.format(self.prime,self.num)\n",
        "  \n",
        "  def __eq__(self, other) -> bool:\n",
        "    if other is None:\n",
        "      return False\n",
        "    return self.num == other.num and self.prime == other.prime\n",
        "  \n",
        "  def __ne__(self, other) -> bool:\n",
        "    if other is None or type(other) is not FieldElement:\n",
        "      return False\n",
        "    return self.num != other.num and self.prime != other.prime"
      ],
      "execution_count": null,
      "outputs": []
    },
    {
      "cell_type": "markdown",
      "metadata": {
        "id": "Mq2Rss5tjfjM",
        "colab_type": "text"
      },
      "source": [
        "<a name=\"modulo-arithmetic\"></a>\n",
        "\n",
        "#### Modulo Arithmetic\n",
        "\n",
        "Modulo Arithmetic of any element **a** by element **b** where a, b belong to the same finite field yields the remainder in the process of division of a by b.\n",
        "\n",
        ">a%b = a **mod** (b)\n",
        "\n",
        ">a ≡  n **mod**(b)\n",
        "\n",
        "\n"
      ]
    },
    {
      "cell_type": "markdown",
      "metadata": {
        "id": "K_IftyOLmghL",
        "colab_type": "text"
      },
      "source": [
        "#### Finite Field Addition, Subtraction, Multiplication & Division\n",
        "\n",
        "The Arithmetic Operation of a Finite Field must have modular properties. It is due to the Modular property, the Finite Fields are closed under these operations.\n",
        "\n",
        "Let us say we have a finite field of order 7,\n",
        "f<sub>7</sub> = {0,1,2,3,4,5,6}.\n",
        "\n",
        "Let us operate on 5 and 6:\n",
        "> **5 + 6 = 11**\n",
        "\n",
        "But 11 is not in F<sub>7</sub>\n",
        "> **5 x 6 = 30**\n",
        "\n",
        "But 30 is not in F<sub>7</sub>\n",
        "> **5 - 6 = -1**\n",
        "\n",
        "But -1 is not in F<sub>7</sub>\n",
        "\n",
        "\n",
        "But we have asserted that the Finite Field is closed under all these operations. To make this possible, we combine the modulo with these operations.\n",
        "\n",
        "\n",
        "a **o** b = (a **o** b) **mod** p\n",
        "where **p** is the order of the Finite Field \n",
        "\n",
        "\n",
        "Let us operate on 5 and 6:\n",
        "> **5 + 6 = 11%7 = 4**\n",
        "\n",
        "> **5 x 6 = 30%7 = 2**\n",
        "\n",
        "> **5 - 6 = -1%7 = 6**\n",
        "\n",
        "4, 2, 6 are present in F<sub>7</sub>\n",
        "\n",
        "We can write a **o** b = (a **o** b) **mod** p in a contracted form using the following notation:\n",
        "\n",
        "> a **o<sub>f</sub>** b = (a **o** b)**%**p\n",
        "\n",
        "\n",
        "\n"
      ]
    },
    {
      "cell_type": "code",
      "metadata": {
        "id": "djBAkQfHmhLp",
        "colab_type": "code",
        "colab": {}
      },
      "source": [
        "class FieldElement:\n",
        "  num : int = None\n",
        "  prime : int = None\n",
        "\n",
        "  def __init__(self, num : int, prime : int):\n",
        "    if (num>=prime) or (num<0) :\n",
        "      error = 'Number {} entered is not in the field range of 0 to {}'.format(num,prime-1)\n",
        "      raise ValueError(error)\n",
        "    \n",
        "    self.num = num\n",
        "    self.prime = prime\n",
        "  \n",
        "  def __repr__(self) -> str:\n",
        "    return 'FieldElement_{}({})'.format(self.prime,self.num)\n",
        "  \n",
        "  def __eq__(self, other) -> bool:\n",
        "    if other is None:\n",
        "      return False\n",
        "    return self.num == other.num and self.prime == other.prime\n",
        "  \n",
        "  def __ne__(self, other) -> bool:\n",
        "    if other is None or type(other) is not FieldElement:\n",
        "      return False\n",
        "    return self.num != other.num and self.prime != other.prime\n",
        "  \n",
        "  def __add__(self, other):\n",
        "    if other is None or type(other) is not self.__class__:\n",
        "      error = \"{} is not an element of type Finite Field\".format(other)\n",
        "      raise TypeError(error)\n",
        "    \n",
        "    elif other.prime != self.prime:\n",
        "      error = \"{} does not belong to the Field of {}\".format(other.num,self.num)\n",
        "      raise TypeError(error)\n",
        "    \n",
        "    mod_sum = (self.num+other.num)%self.prime \n",
        "    return self.__class__(mod_sum,self.prime)\n",
        "  \n",
        "  def __sub__(self, other):\n",
        "    if other is None or type(other) is not self.__class__:\n",
        "      error = \"{} is not an element of type Finite Field\".format(other)\n",
        "      raise TypeError(error)\n",
        "    \n",
        "    elif other.prime != self.prime:\n",
        "      error = \"{} does not belong to the Field of {}\".format(other.num,self.num)\n",
        "      raise TypeError(error)\n",
        "    \n",
        "    mod_difference = (self.prime + self.num-other.num)%self.prime \n",
        "    return self.__class__(mod_difference,self.prime)\n",
        "\n",
        "  def __mul__(self, other):\n",
        "    if other is None or type(other) is not self.__class__:\n",
        "      error = \"{} is not an element of type Finite Field\".format(other)\n",
        "      raise TypeError(error)\n",
        "    \n",
        "    elif other.prime != self.prime:\n",
        "      error = \"{} does not belong to the Field of {}\".format(other.num,self.num)\n",
        "      raise TypeError(error)\n",
        "    \n",
        "    mod_prod = (self.num*other.num)%self.prime \n",
        "    return self.__class__(mod_prod,self.prime)\n",
        "  \n",
        "  def __pow__(self, exponent):\n",
        "    mod_power = pow(self.num,exponent,self.prime)\n",
        "    return self.__class__(mod_power,self.prime)"
      ],
      "execution_count": null,
      "outputs": []
    },
    {
      "cell_type": "markdown",
      "metadata": {
        "id": "jjf3a48zGres",
        "colab_type": "text"
      },
      "source": [
        "#### Test Examples"
      ]
    },
    {
      "cell_type": "code",
      "metadata": {
        "id": "MaWpVJZWGm1r",
        "colab_type": "code",
        "colab": {
          "base_uri": "https://localhost:8080/",
          "height": 34
        },
        "outputId": "ada48170-71b6-44ef-a146-018bf81cdb52"
      },
      "source": [
        "a = FieldElement(7, 13)\n",
        "b = FieldElement(12, 13)\n",
        "c = FieldElement(6, 13)\n",
        "print(a+b==c)"
      ],
      "execution_count": null,
      "outputs": [
        {
          "output_type": "stream",
          "text": [
            "True\n"
          ],
          "name": "stdout"
        }
      ]
    },
    {
      "cell_type": "code",
      "metadata": {
        "id": "S4i3XDUJGuoF",
        "colab_type": "code",
        "colab": {
          "base_uri": "https://localhost:8080/",
          "height": 34
        },
        "outputId": "a9185fe9-3e2c-42d1-9f53-fadc33b2dcb3"
      },
      "source": [
        "a = FieldElement(3, 13)\n",
        "b = FieldElement(12, 13)\n",
        "c = FieldElement(10, 13)\n",
        "print(a*b==c)"
      ],
      "execution_count": null,
      "outputs": [
        {
          "output_type": "stream",
          "text": [
            "True\n"
          ],
          "name": "stdout"
        }
      ]
    },
    {
      "cell_type": "code",
      "metadata": {
        "id": "u8bDmoOiGuw9",
        "colab_type": "code",
        "colab": {
          "base_uri": "https://localhost:8080/",
          "height": 34
        },
        "outputId": "937526ed-0d22-441c-910b-e982fbe489c9"
      },
      "source": [
        "a = FieldElement(3, 13)\n",
        "b = FieldElement(1, 13)\n",
        "print(a**3==b)"
      ],
      "execution_count": null,
      "outputs": [
        {
          "output_type": "stream",
          "text": [
            "True\n"
          ],
          "name": "stdout"
        }
      ]
    },
    {
      "cell_type": "code",
      "metadata": {
        "id": "a6SGK-U2Gu3D",
        "colab_type": "code",
        "colab": {
          "base_uri": "https://localhost:8080/",
          "height": 34
        },
        "outputId": "2e1a9b0b-af54-4f65-bdf1-bd816154da7e"
      },
      "source": [
        "a = FieldElement(12,97)\n",
        "b = FieldElement(77,97)\n",
        "a**7*b**49"
      ],
      "execution_count": null,
      "outputs": [
        {
          "output_type": "execute_result",
          "data": {
            "text/plain": [
              "FieldElement_97(63)"
            ]
          },
          "metadata": {
            "tags": []
          },
          "execution_count": 3
        }
      ]
    },
    {
      "cell_type": "markdown",
      "metadata": {
        "id": "nHOKZTOzIdwR",
        "colab_type": "text"
      },
      "source": [
        "#### Question\n",
        "\n",
        "For k = 1, 3, 7, 13, 18, what is this set in $F_{19}$?\n",
        "\n",
        "{*k⋅0, k⋅1, k⋅2, k⋅3, ... k⋅18*}\n",
        "\n",
        "Do you notice anything about these sets?"
      ]
    },
    {
      "cell_type": "code",
      "metadata": {
        "id": "1fBg2rf0Gu_t",
        "colab_type": "code",
        "colab": {
          "base_uri": "https://localhost:8080/",
          "height": 340
        },
        "outputId": "49c3f976-ccd8-45dc-b197-4abd586e7b0b"
      },
      "source": [
        "def get_field_k(k):\n",
        "  Field_19 = []\n",
        "  k = FieldElement(k,19)\n",
        "  for _ in range(19):\n",
        "    element = FieldElement(_,19)\n",
        "    product = element*k\n",
        "    Field_19.append(product.num)\n",
        "  Field_19.sort()\n",
        "  print(\"For {} we have the following Field {}\".format(k,Field_19))\n",
        "\n",
        "for _ in range(19):\n",
        "  get_field_k(_)"
      ],
      "execution_count": null,
      "outputs": [
        {
          "output_type": "stream",
          "text": [
            "For FieldElement_19(0) we have the following Field [0, 0, 0, 0, 0, 0, 0, 0, 0, 0, 0, 0, 0, 0, 0, 0, 0, 0, 0]\n",
            "For FieldElement_19(1) we have the following Field [0, 1, 2, 3, 4, 5, 6, 7, 8, 9, 10, 11, 12, 13, 14, 15, 16, 17, 18]\n",
            "For FieldElement_19(2) we have the following Field [0, 1, 2, 3, 4, 5, 6, 7, 8, 9, 10, 11, 12, 13, 14, 15, 16, 17, 18]\n",
            "For FieldElement_19(3) we have the following Field [0, 1, 2, 3, 4, 5, 6, 7, 8, 9, 10, 11, 12, 13, 14, 15, 16, 17, 18]\n",
            "For FieldElement_19(4) we have the following Field [0, 1, 2, 3, 4, 5, 6, 7, 8, 9, 10, 11, 12, 13, 14, 15, 16, 17, 18]\n",
            "For FieldElement_19(5) we have the following Field [0, 1, 2, 3, 4, 5, 6, 7, 8, 9, 10, 11, 12, 13, 14, 15, 16, 17, 18]\n",
            "For FieldElement_19(6) we have the following Field [0, 1, 2, 3, 4, 5, 6, 7, 8, 9, 10, 11, 12, 13, 14, 15, 16, 17, 18]\n",
            "For FieldElement_19(7) we have the following Field [0, 1, 2, 3, 4, 5, 6, 7, 8, 9, 10, 11, 12, 13, 14, 15, 16, 17, 18]\n",
            "For FieldElement_19(8) we have the following Field [0, 1, 2, 3, 4, 5, 6, 7, 8, 9, 10, 11, 12, 13, 14, 15, 16, 17, 18]\n",
            "For FieldElement_19(9) we have the following Field [0, 1, 2, 3, 4, 5, 6, 7, 8, 9, 10, 11, 12, 13, 14, 15, 16, 17, 18]\n",
            "For FieldElement_19(10) we have the following Field [0, 1, 2, 3, 4, 5, 6, 7, 8, 9, 10, 11, 12, 13, 14, 15, 16, 17, 18]\n",
            "For FieldElement_19(11) we have the following Field [0, 1, 2, 3, 4, 5, 6, 7, 8, 9, 10, 11, 12, 13, 14, 15, 16, 17, 18]\n",
            "For FieldElement_19(12) we have the following Field [0, 1, 2, 3, 4, 5, 6, 7, 8, 9, 10, 11, 12, 13, 14, 15, 16, 17, 18]\n",
            "For FieldElement_19(13) we have the following Field [0, 1, 2, 3, 4, 5, 6, 7, 8, 9, 10, 11, 12, 13, 14, 15, 16, 17, 18]\n",
            "For FieldElement_19(14) we have the following Field [0, 1, 2, 3, 4, 5, 6, 7, 8, 9, 10, 11, 12, 13, 14, 15, 16, 17, 18]\n",
            "For FieldElement_19(15) we have the following Field [0, 1, 2, 3, 4, 5, 6, 7, 8, 9, 10, 11, 12, 13, 14, 15, 16, 17, 18]\n",
            "For FieldElement_19(16) we have the following Field [0, 1, 2, 3, 4, 5, 6, 7, 8, 9, 10, 11, 12, 13, 14, 15, 16, 17, 18]\n",
            "For FieldElement_19(17) we have the following Field [0, 1, 2, 3, 4, 5, 6, 7, 8, 9, 10, 11, 12, 13, 14, 15, 16, 17, 18]\n",
            "For FieldElement_19(18) we have the following Field [0, 1, 2, 3, 4, 5, 6, 7, 8, 9, 10, 11, 12, 13, 14, 15, 16, 17, 18]\n"
          ],
          "name": "stdout"
        }
      ]
    },
    {
      "cell_type": "code",
      "metadata": {
        "id": "xL2OU7qNK22N",
        "colab_type": "code",
        "colab": {
          "base_uri": "https://localhost:8080/",
          "height": 357
        },
        "outputId": "24c7aa6c-d129-4b00-e415-f4fe332ed6b8"
      },
      "source": [
        "# Change the order to a composite number\n",
        "\n",
        "def get_field_k(k):\n",
        "  Field_20 = []\n",
        "  k = FieldElement(k,20)\n",
        "  for _ in range(20):\n",
        "    element = FieldElement(_,20)\n",
        "    product = element*k\n",
        "    Field_20.append(product.num)\n",
        "  Field_20.sort()\n",
        "  print(\"For {} we have the following Field {}\".format(k,Field_20))\n",
        "\n",
        "for _ in range(20):\n",
        "  get_field_k(_)"
      ],
      "execution_count": null,
      "outputs": [
        {
          "output_type": "stream",
          "text": [
            "For FieldElement_20(0) we have the following Field [0, 0, 0, 0, 0, 0, 0, 0, 0, 0, 0, 0, 0, 0, 0, 0, 0, 0, 0, 0]\n",
            "For FieldElement_20(1) we have the following Field [0, 1, 2, 3, 4, 5, 6, 7, 8, 9, 10, 11, 12, 13, 14, 15, 16, 17, 18, 19]\n",
            "For FieldElement_20(2) we have the following Field [0, 0, 2, 2, 4, 4, 6, 6, 8, 8, 10, 10, 12, 12, 14, 14, 16, 16, 18, 18]\n",
            "For FieldElement_20(3) we have the following Field [0, 1, 2, 3, 4, 5, 6, 7, 8, 9, 10, 11, 12, 13, 14, 15, 16, 17, 18, 19]\n",
            "For FieldElement_20(4) we have the following Field [0, 0, 0, 0, 4, 4, 4, 4, 8, 8, 8, 8, 12, 12, 12, 12, 16, 16, 16, 16]\n",
            "For FieldElement_20(5) we have the following Field [0, 0, 0, 0, 0, 5, 5, 5, 5, 5, 10, 10, 10, 10, 10, 15, 15, 15, 15, 15]\n",
            "For FieldElement_20(6) we have the following Field [0, 0, 2, 2, 4, 4, 6, 6, 8, 8, 10, 10, 12, 12, 14, 14, 16, 16, 18, 18]\n",
            "For FieldElement_20(7) we have the following Field [0, 1, 2, 3, 4, 5, 6, 7, 8, 9, 10, 11, 12, 13, 14, 15, 16, 17, 18, 19]\n",
            "For FieldElement_20(8) we have the following Field [0, 0, 0, 0, 4, 4, 4, 4, 8, 8, 8, 8, 12, 12, 12, 12, 16, 16, 16, 16]\n",
            "For FieldElement_20(9) we have the following Field [0, 1, 2, 3, 4, 5, 6, 7, 8, 9, 10, 11, 12, 13, 14, 15, 16, 17, 18, 19]\n",
            "For FieldElement_20(10) we have the following Field [0, 0, 0, 0, 0, 0, 0, 0, 0, 0, 10, 10, 10, 10, 10, 10, 10, 10, 10, 10]\n",
            "For FieldElement_20(11) we have the following Field [0, 1, 2, 3, 4, 5, 6, 7, 8, 9, 10, 11, 12, 13, 14, 15, 16, 17, 18, 19]\n",
            "For FieldElement_20(12) we have the following Field [0, 0, 0, 0, 4, 4, 4, 4, 8, 8, 8, 8, 12, 12, 12, 12, 16, 16, 16, 16]\n",
            "For FieldElement_20(13) we have the following Field [0, 1, 2, 3, 4, 5, 6, 7, 8, 9, 10, 11, 12, 13, 14, 15, 16, 17, 18, 19]\n",
            "For FieldElement_20(14) we have the following Field [0, 0, 2, 2, 4, 4, 6, 6, 8, 8, 10, 10, 12, 12, 14, 14, 16, 16, 18, 18]\n",
            "For FieldElement_20(15) we have the following Field [0, 0, 0, 0, 0, 5, 5, 5, 5, 5, 10, 10, 10, 10, 10, 15, 15, 15, 15, 15]\n",
            "For FieldElement_20(16) we have the following Field [0, 0, 0, 0, 4, 4, 4, 4, 8, 8, 8, 8, 12, 12, 12, 12, 16, 16, 16, 16]\n",
            "For FieldElement_20(17) we have the following Field [0, 1, 2, 3, 4, 5, 6, 7, 8, 9, 10, 11, 12, 13, 14, 15, 16, 17, 18, 19]\n",
            "For FieldElement_20(18) we have the following Field [0, 0, 2, 2, 4, 4, 6, 6, 8, 8, 10, 10, 12, 12, 14, 14, 16, 16, 18, 18]\n",
            "For FieldElement_20(19) we have the following Field [0, 1, 2, 3, 4, 5, 6, 7, 8, 9, 10, 11, 12, 13, 14, 15, 16, 17, 18, 19]\n"
          ],
          "name": "stdout"
        }
      ]
    },
    {
      "cell_type": "markdown",
      "metadata": {
        "id": "2DuSjlvRLfwm",
        "colab_type": "text"
      },
      "source": [
        ">No matter what k you choose, as long as it’s greater than 0, multiplying the entire set by k will result in the same set as you started with. \n",
        "\n",
        ">`Intuitively, the fact that we have a prime order results in every \n",
        "element of a finite field being equivalent. If the order of the set was \n",
        "a composite number, multiplying the set by one of the divisors would result in a smaller set.`"
      ]
    },
    {
      "cell_type": "markdown",
      "metadata": {
        "id": "WshKrvjOMCl1",
        "colab_type": "text"
      },
      "source": [
        "#### Question\n",
        "\n",
        "For p = 7, 11, 17, 31, what is this set in F<sub>p</sub> ?\n",
        "\n",
        "{*1<sup>(p – 1)</sup> , 2<sup>(p – 1)</sup> , 3<sup>(p – 1)</sup> , 4<sup>(p – 1)</sup> , ... (p – 1)<sup>(p – 1)</sup>*}"
      ]
    },
    {
      "cell_type": "code",
      "metadata": {
        "id": "s5UUzVMSMr1m",
        "colab_type": "code",
        "colab": {
          "base_uri": "https://localhost:8080/",
          "height": 136
        },
        "outputId": "aeeb422e-6d29-4472-94e4-aa17e57cb4a1"
      },
      "source": [
        "def get_field_k(prime):\n",
        "  Field = []\n",
        "  p = prime - 1\n",
        "  for _ in range(prime):\n",
        "    element = FieldElement(_,prime)    \n",
        "    result = element**p\n",
        "    Field.append(result.num)\n",
        "  Field.sort()\n",
        "  print(\"For {} we have the following Field {}\".format(prime,Field))\n",
        "\n",
        "p = [7,8,11,14,17,24,31]\n",
        "\n",
        "for _ in p:\n",
        "  get_field_k(_)"
      ],
      "execution_count": null,
      "outputs": [
        {
          "output_type": "stream",
          "text": [
            "For 7 we have the following Field [0, 1, 1, 1, 1, 1, 1]\n",
            "For 8 we have the following Field [0, 0, 0, 0, 1, 3, 5, 7]\n",
            "For 11 we have the following Field [0, 1, 1, 1, 1, 1, 1, 1, 1, 1, 1]\n",
            "For 14 we have the following Field [0, 1, 2, 3, 4, 5, 6, 7, 8, 9, 10, 11, 12, 13]\n",
            "For 17 we have the following Field [0, 1, 1, 1, 1, 1, 1, 1, 1, 1, 1, 1, 1, 1, 1, 1, 1]\n",
            "For 24 we have the following Field [0, 0, 0, 0, 1, 3, 5, 7, 8, 8, 8, 8, 9, 11, 13, 15, 16, 16, 16, 16, 17, 19, 21, 23]\n",
            "For 31 we have the following Field [0, 1, 1, 1, 1, 1, 1, 1, 1, 1, 1, 1, 1, 1, 1, 1, 1, 1, 1, 1, 1, 1, 1, 1, 1, 1, 1, 1, 1, 1, 1]\n"
          ],
          "name": "stdout"
        }
      ]
    },
    {
      "cell_type": "markdown",
      "metadata": {
        "id": "gy4S7T74cCbZ",
        "colab_type": "text"
      },
      "source": [
        "n<sup>(p–1)</sup> is always 1 for every p that is prime\n",
        "and every n > 0"
      ]
    },
    {
      "cell_type": "markdown",
      "metadata": {
        "id": "uxvZZxnV1X7b",
        "colab_type": "text"
      },
      "source": [
        "<a name=\"fermats-theorem\"></a>\n",
        "\n",
        "#### Fermat's Little Theorem\n",
        "\n",
        "Given a Prime Field F<sub>p</sub>, No matter what k you choose, as long as it’s greater than 0, multiplying the entire set by k will result in the same set as you started with.\n",
        "\n",
        "{1, 2, 3, ... p–2, p–1} = {k % p, 2k % p, 3k % p, ...,(p–2)k % p, (p–1)k % p }\n",
        "\n",
        "Multiplying all the elements together will also result in an element that belongs to the same field\n",
        "\n",
        "1.2.3. ... (p–2).(p–1) = (k % p).(2k % p).(3k % p). ...,((p–2)k % p).((p–1)k % p)\n",
        "\n",
        "(p-1)! = k<sup>p-1</sup>(p-1)!%p\n",
        "\n",
        "1 = k<sup>p-1</sup>%p\n",
        "\n"
      ]
    },
    {
      "cell_type": "markdown",
      "metadata": {
        "id": "i_chO0i_h65u",
        "colab_type": "text"
      },
      "source": [
        "Division is the inverse of multiplication, we know:\n",
        "a/b = a⋅<sub>f</sub>(1/b) = a⋅<sub>f</sub>b<sup>-1</sup>\n",
        "We can reduce the division problem to a multiplication problem as long as we can figure out what b<sup>–1</sup> is. This is where Fermat’s little theorem comes into play. We know:\n",
        "b<sup>p-1</sup> = 1\n",
        "because p is prime. Thus:\n",
        "b<sup>-1</sup>= b<sup>-1</sup>⋅<sub>f</sub>1\n",
        "\n",
        "b<sup>-1</sup>⋅<sub>f</sub>1=b<sup>-1</sup>⋅<sub>f</sub>b<sup>p-1</sup>  \n",
        "\n",
        "b<sup>-1</sup>⋅<sub>f</sub>b<sup>p-1</sup>  = b<sup>p-2</sup>\n",
        "\n",
        "or:\n",
        "\n",
        "b<sup>-1</sup> = b<sup>p-2</sup>"
      ]
    },
    {
      "cell_type": "markdown",
      "metadata": {
        "id": "obBTsJZ7mE3u",
        "colab_type": "text"
      },
      "source": [
        "**Updating the True Division Method**"
      ]
    },
    {
      "cell_type": "code",
      "metadata": {
        "id": "kGcr3X6zh54R",
        "colab_type": "code",
        "colab": {}
      },
      "source": [
        "class FieldElement:\n",
        "  num : int = None\n",
        "  prime : int = None\n",
        "\n",
        "  def __init__(self, num : int, prime : int):\n",
        "    if (num>=prime) or (num<0) :\n",
        "      error = 'Number {} entered is not in the field range of 0 to {}'.format(num,prime-1)\n",
        "      raise ValueError(error)\n",
        "    \n",
        "    self.num = num\n",
        "    self.prime = prime\n",
        "  \n",
        "  def __repr__(self) -> str:\n",
        "    return 'FieldElement_{}({})'.format(self.prime,self.num)\n",
        "  \n",
        "  def check_field(self,element):\n",
        "    if element is None or type(element) is not self.__class__:\n",
        "      error = \"{} is not an element of type Finite Field\".format(element)\n",
        "      raise TypeError(error)\n",
        "    \n",
        "    elif element.prime != self.prime:\n",
        "      error = \"{} does not belong to the Field of {}\".format(element.num,self.prime)\n",
        "      raise TypeError(error)\n",
        "    \n",
        "  def __eq__(self, other) -> bool:\n",
        "    if other is None:\n",
        "      return False\n",
        "    return self.num == other.num and self.prime == other.prime\n",
        "  \n",
        "  def __ne__(self, other) -> bool:\n",
        "    if other is None or type(other) is not FieldElement:\n",
        "      return False\n",
        "    return self.num != other.num and self.prime != other.prime\n",
        "  \n",
        "  def __add__(self, other):\n",
        "    self.check_field(other)\n",
        "    mod_sum = (self.num+other.num)%self.prime \n",
        "    return self.__class__(mod_sum,self.prime)\n",
        "  \n",
        "  def __sub__(self, other):\n",
        "    self.check_field(other)    \n",
        "    mod_difference = (self.prime + self.num-other.num)%self.prime \n",
        "    return self.__class__(mod_difference,self.prime)\n",
        "\n",
        "  def __mul__(self, other):\n",
        "    self.check_field(other)\n",
        "    mod_prod = (self.num*other.num)%self.prime \n",
        "    return self.__class__(mod_prod,self.prime)\n",
        "  \n",
        "  def __pow__(self, exponent):\n",
        "    mod_power = pow(self.num,exponent,self.prime)\n",
        "    return self.__class__(mod_power,self.prime)\n",
        "  \n",
        "  def __truediv__(self, other):\n",
        "    self.check_field(other)\n",
        "    other = pow(other.num,self.prime-2,self.prime)\n",
        "    other = self.__class__(other,self.prime)\n",
        "    mod_division = (self.num*other.num)%self.prime \n",
        "    return self.__class__(mod_division,self.prime)"
      ],
      "execution_count": null,
      "outputs": []
    },
    {
      "cell_type": "markdown",
      "metadata": {
        "id": "ZBY4IknAmOhv",
        "colab_type": "text"
      },
      "source": [
        "**Updating the Power Method to take negative powers**"
      ]
    },
    {
      "cell_type": "code",
      "metadata": {
        "id": "oXh09GG5kr1v",
        "colab_type": "code",
        "colab": {}
      },
      "source": [
        "class FieldElement:\n",
        "  num : int = None\n",
        "  prime : int = None\n",
        "\n",
        "  def __init__(self, num : int, prime : int):\n",
        "    if (num>=prime) or (num<0) :\n",
        "      error = 'Number {} entered is not in the field range of 0 to {}'.format(num,prime-1)\n",
        "      raise ValueError(error)\n",
        "    \n",
        "    self.num = num\n",
        "    self.prime = prime\n",
        "  \n",
        "  def __repr__(self) -> str:\n",
        "    return 'FieldElement_{}({})'.format(self.prime,self.num)\n",
        "  \n",
        "  def check_field(self,element):\n",
        "    if element is None or type(element) is not self.__class__:\n",
        "      error = \"{} is not an element of type Finite Field\".format(element)\n",
        "      raise TypeError(error)\n",
        "    \n",
        "    elif element.prime != self.prime:\n",
        "      error = \"{} does not belong to the Field of {}\".format(element.num,self.prime)\n",
        "      raise TypeError(error)\n",
        "    \n",
        "  def __eq__(self, other) -> bool:\n",
        "    if other is None:\n",
        "      return False\n",
        "    return self.num == other.num and self.prime == other.prime\n",
        "  \n",
        "  def __ne__(self, other) -> bool:\n",
        "    if other is None or type(other) is not FieldElement:\n",
        "      return False\n",
        "    return self.num != other.num and self.prime != other.prime\n",
        "  \n",
        "  def __add__(self, other):\n",
        "    self.check_field(other)\n",
        "    mod_sum = (self.num+other.num)%self.prime \n",
        "    return self.__class__(mod_sum,self.prime)\n",
        "  \n",
        "  def __sub__(self, other):\n",
        "    self.check_field(other)    \n",
        "    mod_difference = (self.prime + self.num-other.num)%self.prime \n",
        "    return self.__class__(mod_difference,self.prime)\n",
        "\n",
        "  def __mul__(self, other):\n",
        "    self.check_field(other)\n",
        "    mod_prod = (self.num*other.num)%self.prime \n",
        "    return self.__class__(mod_prod,self.prime)\n",
        "  \n",
        "  def __pow__(self, exponent):\n",
        "    \"\"\"\n",
        "    Added the Exponentiation for negative powers\n",
        "    \"\"\"\n",
        "    exponent = exponent % (self.prime - 1)\n",
        "    mod_power = pow(self.num,exponent,self.prime)\n",
        "    return self.__class__(mod_power,self.prime)\n",
        "  \n",
        "  def __truediv__(self, other):\n",
        "    self.check_field(other)\n",
        "    other = pow(other.num,self.prime-2,self.prime)\n",
        "    other = self.__class__(other,self.prime)\n",
        "    mod_division = (self.num*other.num)%self.prime \n",
        "    return self.__class__(mod_division,self.prime)"
      ],
      "execution_count": null,
      "outputs": []
    },
    {
      "cell_type": "markdown",
      "metadata": {
        "id": "T9-5seN2Ucsa",
        "colab_type": "text"
      },
      "source": [
        "<a name=\"elliptic-curves\"></a>\n",
        "\n",
        "## Elliptic Curves \n",
        "\n",
        "These are a family of curves having the following form\n",
        "\n",
        "\\begin{equation}\n",
        "  y^2 = x^3 + ax +b\n",
        "\\end{equation}\n",
        "\n",
        "\n",
        "Another way to look at this would be\n",
        "\n",
        "\\begin{equation}\n",
        "y = \\pm\\sqrt{x^3 + ax + b}\n",
        "\\end{equation}\n",
        "\n",
        "1. $y^2$ makes this function symmetric wrt x axis.\n",
        "2. This function cannot work for certain values of a and b and cannot be defined for certain values of $x$ too.\n",
        "3. For $x, a$ and $b$ there are 8 possible combinations of the values they can take.\n",
        "\n",
        "x|a|b\n",
        "-|-|-\n",
        "+ve|+ve|+ve\n",
        "+ve|+ve|-ve\n",
        "+ve|-ve|+ve\n",
        "+ve|-ve|-ve\n",
        "-ve|+ve|+ve\n",
        "-ve|+ve|-ve\n",
        "-ve|-ve|+ve\n",
        "-ve|-ve|-ve\n",
        "\n",
        "![alt text](https://cdn.arstechnica.net/wp-content/uploads/2013/10/elliptic-curve-crypt-image00.png)\n",
        "\n",
        "Let us define the class Point to be a point on a specific curve."
      ]
    },
    {
      "cell_type": "code",
      "metadata": {
        "id": "wHE-r8ByZI1Q",
        "colab_type": "code",
        "colab": {}
      },
      "source": [
        "class Point:\n",
        "\n",
        "  def __init__(self, x:float, y:float, a:float, b:float):\n",
        "    if pow(y,2) != pow(x,3) + a*x + b :\n",
        "      error = \"Point ({},{}) does not lie on the curve y^2 = x^3 + {}x + {}\".format(x,y,a,b)\n",
        "      print(error)\n",
        "    else:\n",
        "      print(\"Point ({},{}) lies on the curve y^2 = x^3 + {}x + {}\".format(x,y,a,b))\n",
        "      self.x = x\n",
        "      self.y = y\n",
        "      self.a = a\n",
        "      self.b = b\n",
        "  \n",
        "  def __repr__(self)->str:\n",
        "    return \"Point({},{})_(a={},b={})\".format(self.x,self.y,self.a,self.b)\n",
        "\n",
        "\n",
        "  def __eq__(self, other)->bool:\n",
        "    return self.x == other.x and self.y == other.y and self.a == other.a and self.b == other.b\n",
        "    \n",
        "  def __ne__(self,other)->bool:\n",
        "    return self.x != other.x or self.y != other.y or self.a != other.a or self.b != other.b"
      ],
      "execution_count": 19,
      "outputs": []
    },
    {
      "cell_type": "code",
      "metadata": {
        "id": "NvDaP-OWecnJ",
        "colab_type": "code",
        "colab": {
          "base_uri": "https://localhost:8080/",
          "height": 85
        },
        "outputId": "d83f4e68-761d-4d7d-b2e7-2e2931a7c1f9"
      },
      "source": [
        "# Test whether the given points are on the curve y^2 = x^3 + 5x + 7\n",
        "a = 5\n",
        "b = 7\n",
        "points = [(2,4),(-1,-1),(18,77),(5,7)]\n",
        "\n",
        "for (x,y) in points:\n",
        "  p = Point(x,y,a,b)"
      ],
      "execution_count": 20,
      "outputs": [
        {
          "output_type": "stream",
          "text": [
            "Point (2,4) does not lie on the curve y^2 = x^3 + 5x + 7\n",
            "Point (-1,-1) lies on the curve y^2 = x^3 + 5x + 7\n",
            "Point (18,77) lies on the curve y^2 = x^3 + 5x + 7\n",
            "Point (5,7) does not lie on the curve y^2 = x^3 + 5x + 7\n"
          ],
          "name": "stdout"
        }
      ]
    },
    {
      "cell_type": "code",
      "metadata": {
        "id": "WO7lD6Glf-bN",
        "colab_type": "code",
        "colab": {}
      },
      "source": [
        "class Point:\n",
        "\n",
        "  def __init__(self, x:float, y:float, a:float, b:float):\n",
        "    if pow(y,2) != pow(x,3) + a*x + b :\n",
        "      error = \"Point ({},{}) does not lie on the curve y^2 = x^3 + {}x + {}\".format(x,y,a,b)\n",
        "      raise ValueError(error)\n",
        "    else:\n",
        "      print(\"Point ({},{}) lies on the curve y^2 = x^3 + {}x + {}\".format(x,y,a,b))\n",
        "      self.x = x\n",
        "      self.y = y\n",
        "      self.a = a\n",
        "      self.b = b\n",
        "  \n",
        "  def __repr__(self)->str:\n",
        "    return \"Point({},{})_(a={},b={})\".format(self.x,self.y,self.a,self.b)\n",
        "\n",
        "\n",
        "  def __eq__(self, other)->bool:\n",
        "    return self.x == other.x and self.y == other.y and self.a == other.a and self.b == other.b\n",
        "    \n",
        "  def __ne__(self,other)->bool:\n",
        "    return self.x != other.x or self.y != other.y or self.a != other.a or self.b != other.b"
      ],
      "execution_count": 21,
      "outputs": []
    },
    {
      "cell_type": "markdown",
      "metadata": {
        "id": "8NS412t4gQcY",
        "colab_type": "text"
      },
      "source": [
        "Elliptic curves are useful because of something called point addition. Point addition is where we can do an operation on two of the points on the curve and get a third point,also on the curve"
      ]
    },
    {
      "cell_type": "code",
      "metadata": {
        "id": "rk1HixiegGjK",
        "colab_type": "code",
        "colab": {}
      },
      "source": [
        ""
      ],
      "execution_count": null,
      "outputs": []
    }
  ]
}