{
  "nbformat": 4,
  "nbformat_minor": 0,
  "metadata": {
    "colab": {
      "name": "Program BitCoin From Scratch.ipynb",
      "provenance": [],
      "collapsed_sections": [],
      "authorship_tag": "ABX9TyNk7esbuPjjhZE8JPQnWCG+"
    },
    "kernelspec": {
      "name": "python3",
      "display_name": "Python 3"
    }
  },
  "cells": [
    {
      "cell_type": "markdown",
      "metadata": {
        "id": "8jH6s9HNUd_G",
        "colab_type": "text"
      },
      "source": [
        "# PROGRAMMING BITCOIN FROM SCRATCH\n",
        "\n",
        "\n",
        "These are my notes from the book, Programming Bitcoin from scratch by O'Reilly Publication.\n",
        "\n",
        "Contents:\n",
        "1. [Groups and Fields](#groups-fields)\n",
        "2. [Finite Fields](#finite-fields)\n",
        "  * [Finite Sets](#finite-sets) \n",
        "  * [Constructing a Finite Field in Python](#finite-field-python)\n",
        "  * [Modulo Arithmetic](#modulo-arithmetic)\n",
        "  * [Fermat's Theorem](#fermats-theorem)\n",
        "3. [Elliptic Curves](#elliptic-curves)\n"
      ]
    },
    {
      "cell_type": "markdown",
      "metadata": {
        "id": "kJm-DBfLGBZS",
        "colab_type": "text"
      },
      "source": [
        "<a name=\"groups-fields\"></a>\n",
        "\n",
        "## Groups and Fields\n",
        "\n",
        "\n"
      ]
    },
    {
      "cell_type": "markdown",
      "metadata": {
        "id": "iQ0DVUzmVf5m",
        "colab_type": "text"
      },
      "source": [
        "<a name=\"finite-fields\"></a>\n",
        "## Finite Fields\n",
        "\n",
        "```\n",
        "Finite Fields are also called Galois Fields\n",
        "```\n",
        "\n",
        "Mathematically, a **finite field** is defined as a **finite set of numbers** and two operations +\n",
        "(addition) and ⋅ (multiplication) that satisfy the following:\n",
        "1. If a and b are in the set, a + b and a ⋅ b are in the set. **We call this property closed**.\n",
        "2. 0 exists and has the property a + 0 = a. We call this the **additive identity**.\n",
        "3. 1 exists and has the property a ⋅ 1 = a. We call this the **multiplicative identity**.\n",
        "4. If a is in the set, –a is in the set, which is defined as the value that makes a + (–a)\n",
        "= 0. This is what we call the **additive inverse**. Using the Additive Inverse, one can define Subtraction.\n",
        "5. If a is in the set and is not 0, a<sup>–1</sup> is in the set, which is defined as the value that\n",
        "makes a ⋅ a<sup>–1</sup> = 1. This is what we call the **multiplicative inverse**. Using the Multiplicative Inverse one can define Division.\n",
        "\n",
        "\n"
      ]
    },
    {
      "cell_type": "markdown",
      "metadata": {
        "id": "AxLApptMaDaB",
        "colab_type": "text"
      },
      "source": [
        "<a name=\"finite-sets\"></a>\n",
        "### Finite Sets\n",
        "\n",
        "Mathematically, a Finite Field Set of order p can be represented as:\n",
        ">F<sub>p</sub> = {0,1,2,... p-1}\n",
        "where the order of the set refers to the size of the set F<sub>p</sub>\n",
        "\n",
        "```\n",
        "Fields must have an order that is a power of a prime.\n",
        "```\n",
        "\n",
        "\n",
        "\n"
      ]
    },
    {
      "cell_type": "markdown",
      "metadata": {
        "id": "kKisE_yEc4RJ",
        "colab_type": "text"
      },
      "source": [
        "<a name=\"finite-field-python\"></a>\n",
        "#### Constructing a Finite Field in Python\n"
      ]
    },
    {
      "cell_type": "code",
      "metadata": {
        "id": "GCE5CqnlVilq",
        "colab_type": "code",
        "colab": {}
      },
      "source": [
        "class FieldElement:\n",
        "  num : int = None\n",
        "  prime : int = None\n",
        "\n",
        "  def __init__(self, num : int, prime : int):\n",
        "    if (num>=prime) or (num<0) :\n",
        "      error = 'Number {} entered is not in the field range of 0 to {}'.format(num,prime-1)\n",
        "      raise ValueError(error)\n",
        "    \n",
        "    self.num = num\n",
        "    self.prime = prime\n",
        "  \n",
        "  def __repr__(self) -> str:\n",
        "    return 'FieldElement_{}({})'.format(self.prime,self.num)\n",
        "  \n",
        "  def __eq__(self, other) -> bool:\n",
        "    if other is None:\n",
        "      return False\n",
        "    return self.num == other.num and self.prime == other.prime\n",
        "  \n",
        "  def __ne__(self, other) -> bool:\n",
        "    if other is None or type(other) is not FieldElement:\n",
        "      return False\n",
        "    return self.num != other.num and self.prime != other.prime"
      ],
      "execution_count": null,
      "outputs": []
    },
    {
      "cell_type": "markdown",
      "metadata": {
        "id": "Mq2Rss5tjfjM",
        "colab_type": "text"
      },
      "source": [
        "<a name=\"modulo-arithmetic\"></a>\n",
        "\n",
        "#### Modulo Arithmetic\n",
        "\n",
        "Modulo Arithmetic of any element **a** by element **b** where a, b belong to the same finite field yields the remainder in the process of division of a by b.\n",
        "\n",
        ">a%b = a **mod** (b)\n",
        "\n",
        ">a ≡  n **mod**(b)\n",
        "\n",
        "\n"
      ]
    },
    {
      "cell_type": "markdown",
      "metadata": {
        "id": "K_IftyOLmghL",
        "colab_type": "text"
      },
      "source": [
        "#### Finite Field Addition, Subtraction, Multiplication & Division\n",
        "\n",
        "The Arithmetic Operation of a Finite Field must have modular properties. It is due to the Modular property, the Finite Fields are closed under these operations.\n",
        "\n",
        "Let us say we have a finite field of order 7,\n",
        "f<sub>7</sub> = {0,1,2,3,4,5,6}.\n",
        "\n",
        "Let us operate on 5 and 6:\n",
        "> **5 + 6 = 11**\n",
        "\n",
        "But 11 is not in F<sub>7</sub>\n",
        "> **5 x 6 = 30**\n",
        "\n",
        "But 30 is not in F<sub>7</sub>\n",
        "> **5 - 6 = -1**\n",
        "\n",
        "But -1 is not in F<sub>7</sub>\n",
        "\n",
        "\n",
        "But we have asserted that the Finite Field is closed under all these operations. To make this possible, we combine the modulo with these operations.\n",
        "\n",
        "\n",
        "a **o** b = (a **o** b) **mod** p\n",
        "where **p** is the order of the Finite Field \n",
        "\n",
        "\n",
        "Let us operate on 5 and 6:\n",
        "> **5 + 6 = 11%7 = 4**\n",
        "\n",
        "> **5 x 6 = 30%7 = 2**\n",
        "\n",
        "> **5 - 6 = -1%7 = 6**\n",
        "\n",
        "4, 2, 6 are present in F<sub>7</sub>\n",
        "\n",
        "We can write a **o** b = (a **o** b) **mod** p in a contracted form using the following notation:\n",
        "\n",
        "> a **o<sub>f</sub>** b = (a **o** b)**%**p\n",
        "\n",
        "\n",
        "\n"
      ]
    },
    {
      "cell_type": "code",
      "metadata": {
        "id": "djBAkQfHmhLp",
        "colab_type": "code",
        "colab": {}
      },
      "source": [
        "class FieldElement:\n",
        "  num : int = None\n",
        "  prime : int = None\n",
        "\n",
        "  def __init__(self, num : int, prime : int):\n",
        "    if (num>=prime) or (num<0) :\n",
        "      error = 'Number {} entered is not in the field range of 0 to {}'.format(num,prime-1)\n",
        "      raise ValueError(error)\n",
        "    \n",
        "    self.num = num\n",
        "    self.prime = prime\n",
        "  \n",
        "  def __repr__(self) -> str:\n",
        "    return 'FieldElement_{}({})'.format(self.prime,self.num)\n",
        "  \n",
        "  def __eq__(self, other) -> bool:\n",
        "    if other is None:\n",
        "      return False\n",
        "    return self.num == other.num and self.prime == other.prime\n",
        "  \n",
        "  def __ne__(self, other) -> bool:\n",
        "    if other is None or type(other) is not FieldElement:\n",
        "      return False\n",
        "    return self.num != other.num and self.prime != other.prime\n",
        "  \n",
        "  def __add__(self, other):\n",
        "    if other is None or type(other) is not self.__class__:\n",
        "      error = \"{} is not an element of type Finite Field\".format(other)\n",
        "      raise TypeError(error)\n",
        "    \n",
        "    elif other.prime != self.prime:\n",
        "      error = \"{} does not belong to the Field of {}\".format(other.num,self.num)\n",
        "      raise TypeError(error)\n",
        "    \n",
        "    mod_sum = (self.num+other.num)%self.prime \n",
        "    return self.__class__(mod_sum,self.prime)\n",
        "  \n",
        "  def __sub__(self, other):\n",
        "    if other is None or type(other) is not self.__class__:\n",
        "      error = \"{} is not an element of type Finite Field\".format(other)\n",
        "      raise TypeError(error)\n",
        "    \n",
        "    elif other.prime != self.prime:\n",
        "      error = \"{} does not belong to the Field of {}\".format(other.num,self.num)\n",
        "      raise TypeError(error)\n",
        "    \n",
        "    mod_difference = (self.prime + self.num-other.num)%self.prime \n",
        "    return self.__class__(mod_difference,self.prime)\n",
        "\n",
        "  def __mul__(self, other):\n",
        "    if other is None or type(other) is not self.__class__:\n",
        "      error = \"{} is not an element of type Finite Field\".format(other)\n",
        "      raise TypeError(error)\n",
        "    \n",
        "    elif other.prime != self.prime:\n",
        "      error = \"{} does not belong to the Field of {}\".format(other.num,self.num)\n",
        "      raise TypeError(error)\n",
        "    \n",
        "    mod_prod = (self.num*other.num)%self.prime \n",
        "    return self.__class__(mod_prod,self.prime)\n",
        "  \n",
        "  def __pow__(self, exponent):\n",
        "    mod_power = (self.num**exponent)%self.prime \n",
        "    return self.__class__(mod_power,self.prime)"
      ],
      "execution_count": 1,
      "outputs": []
    },
    {
      "cell_type": "markdown",
      "metadata": {
        "id": "jjf3a48zGres",
        "colab_type": "text"
      },
      "source": [
        "#### Test Examples"
      ]
    },
    {
      "cell_type": "code",
      "metadata": {
        "id": "MaWpVJZWGm1r",
        "colab_type": "code",
        "colab": {
          "base_uri": "https://localhost:8080/",
          "height": 34
        },
        "outputId": "ada48170-71b6-44ef-a146-018bf81cdb52"
      },
      "source": [
        "a = FieldElement(7, 13)\n",
        "b = FieldElement(12, 13)\n",
        "c = FieldElement(6, 13)\n",
        "print(a+b==c)"
      ],
      "execution_count": 2,
      "outputs": [
        {
          "output_type": "stream",
          "text": [
            "True\n"
          ],
          "name": "stdout"
        }
      ]
    },
    {
      "cell_type": "code",
      "metadata": {
        "id": "S4i3XDUJGuoF",
        "colab_type": "code",
        "colab": {
          "base_uri": "https://localhost:8080/",
          "height": 34
        },
        "outputId": "a9185fe9-3e2c-42d1-9f53-fadc33b2dcb3"
      },
      "source": [
        "a = FieldElement(3, 13)\n",
        "b = FieldElement(12, 13)\n",
        "c = FieldElement(10, 13)\n",
        "print(a*b==c)"
      ],
      "execution_count": 3,
      "outputs": [
        {
          "output_type": "stream",
          "text": [
            "True\n"
          ],
          "name": "stdout"
        }
      ]
    },
    {
      "cell_type": "code",
      "metadata": {
        "id": "u8bDmoOiGuw9",
        "colab_type": "code",
        "colab": {
          "base_uri": "https://localhost:8080/",
          "height": 34
        },
        "outputId": "937526ed-0d22-441c-910b-e982fbe489c9"
      },
      "source": [
        "a = FieldElement(3, 13)\n",
        "b = FieldElement(1, 13)\n",
        "print(a**3==b)"
      ],
      "execution_count": 4,
      "outputs": [
        {
          "output_type": "stream",
          "text": [
            "True\n"
          ],
          "name": "stdout"
        }
      ]
    },
    {
      "cell_type": "code",
      "metadata": {
        "id": "a6SGK-U2Gu3D",
        "colab_type": "code",
        "colab": {
          "base_uri": "https://localhost:8080/",
          "height": 34
        },
        "outputId": "e142519d-5d43-438d-d542-8ca5240da6e6"
      },
      "source": [
        "a = FieldElement(12,97)\n",
        "b = FieldElement(77,97)\n",
        "a**7*b**49"
      ],
      "execution_count": 6,
      "outputs": [
        {
          "output_type": "execute_result",
          "data": {
            "text/plain": [
              "FieldElement_97(63)"
            ]
          },
          "metadata": {
            "tags": []
          },
          "execution_count": 6
        }
      ]
    },
    {
      "cell_type": "markdown",
      "metadata": {
        "id": "nHOKZTOzIdwR",
        "colab_type": "text"
      },
      "source": [
        "#### Question\n",
        "\n",
        "For k = 1, 3, 7, 13, 18, what is this set in $F_{19}$?\n",
        "\n",
        "{*k⋅0, k⋅1, k⋅2, k⋅3, ... k⋅18*}\n",
        "\n",
        "Do you notice anything about these sets?"
      ]
    },
    {
      "cell_type": "code",
      "metadata": {
        "id": "1fBg2rf0Gu_t",
        "colab_type": "code",
        "colab": {
          "base_uri": "https://localhost:8080/",
          "height": 340
        },
        "outputId": "49c3f976-ccd8-45dc-b197-4abd586e7b0b"
      },
      "source": [
        "def get_field_k(k):\n",
        "  Field_19 = []\n",
        "  k = FieldElement(k,19)\n",
        "  for _ in range(19):\n",
        "    element = FieldElement(_,19)\n",
        "    product = element*k\n",
        "    Field_19.append(product.num)\n",
        "  Field_19.sort()\n",
        "  print(\"For {} we have the following Field {}\".format(k,Field_19))\n",
        "\n",
        "for _ in range(19):\n",
        "  get_field_k(_)"
      ],
      "execution_count": 17,
      "outputs": [
        {
          "output_type": "stream",
          "text": [
            "For FieldElement_19(0) we have the following Field [0, 0, 0, 0, 0, 0, 0, 0, 0, 0, 0, 0, 0, 0, 0, 0, 0, 0, 0]\n",
            "For FieldElement_19(1) we have the following Field [0, 1, 2, 3, 4, 5, 6, 7, 8, 9, 10, 11, 12, 13, 14, 15, 16, 17, 18]\n",
            "For FieldElement_19(2) we have the following Field [0, 1, 2, 3, 4, 5, 6, 7, 8, 9, 10, 11, 12, 13, 14, 15, 16, 17, 18]\n",
            "For FieldElement_19(3) we have the following Field [0, 1, 2, 3, 4, 5, 6, 7, 8, 9, 10, 11, 12, 13, 14, 15, 16, 17, 18]\n",
            "For FieldElement_19(4) we have the following Field [0, 1, 2, 3, 4, 5, 6, 7, 8, 9, 10, 11, 12, 13, 14, 15, 16, 17, 18]\n",
            "For FieldElement_19(5) we have the following Field [0, 1, 2, 3, 4, 5, 6, 7, 8, 9, 10, 11, 12, 13, 14, 15, 16, 17, 18]\n",
            "For FieldElement_19(6) we have the following Field [0, 1, 2, 3, 4, 5, 6, 7, 8, 9, 10, 11, 12, 13, 14, 15, 16, 17, 18]\n",
            "For FieldElement_19(7) we have the following Field [0, 1, 2, 3, 4, 5, 6, 7, 8, 9, 10, 11, 12, 13, 14, 15, 16, 17, 18]\n",
            "For FieldElement_19(8) we have the following Field [0, 1, 2, 3, 4, 5, 6, 7, 8, 9, 10, 11, 12, 13, 14, 15, 16, 17, 18]\n",
            "For FieldElement_19(9) we have the following Field [0, 1, 2, 3, 4, 5, 6, 7, 8, 9, 10, 11, 12, 13, 14, 15, 16, 17, 18]\n",
            "For FieldElement_19(10) we have the following Field [0, 1, 2, 3, 4, 5, 6, 7, 8, 9, 10, 11, 12, 13, 14, 15, 16, 17, 18]\n",
            "For FieldElement_19(11) we have the following Field [0, 1, 2, 3, 4, 5, 6, 7, 8, 9, 10, 11, 12, 13, 14, 15, 16, 17, 18]\n",
            "For FieldElement_19(12) we have the following Field [0, 1, 2, 3, 4, 5, 6, 7, 8, 9, 10, 11, 12, 13, 14, 15, 16, 17, 18]\n",
            "For FieldElement_19(13) we have the following Field [0, 1, 2, 3, 4, 5, 6, 7, 8, 9, 10, 11, 12, 13, 14, 15, 16, 17, 18]\n",
            "For FieldElement_19(14) we have the following Field [0, 1, 2, 3, 4, 5, 6, 7, 8, 9, 10, 11, 12, 13, 14, 15, 16, 17, 18]\n",
            "For FieldElement_19(15) we have the following Field [0, 1, 2, 3, 4, 5, 6, 7, 8, 9, 10, 11, 12, 13, 14, 15, 16, 17, 18]\n",
            "For FieldElement_19(16) we have the following Field [0, 1, 2, 3, 4, 5, 6, 7, 8, 9, 10, 11, 12, 13, 14, 15, 16, 17, 18]\n",
            "For FieldElement_19(17) we have the following Field [0, 1, 2, 3, 4, 5, 6, 7, 8, 9, 10, 11, 12, 13, 14, 15, 16, 17, 18]\n",
            "For FieldElement_19(18) we have the following Field [0, 1, 2, 3, 4, 5, 6, 7, 8, 9, 10, 11, 12, 13, 14, 15, 16, 17, 18]\n"
          ],
          "name": "stdout"
        }
      ]
    },
    {
      "cell_type": "code",
      "metadata": {
        "id": "xL2OU7qNK22N",
        "colab_type": "code",
        "colab": {
          "base_uri": "https://localhost:8080/",
          "height": 357
        },
        "outputId": "24c7aa6c-d129-4b00-e415-f4fe332ed6b8"
      },
      "source": [
        "# Change the order to a composite number\n",
        "\n",
        "def get_field_k(k):\n",
        "  Field_20 = []\n",
        "  k = FieldElement(k,20)\n",
        "  for _ in range(20):\n",
        "    element = FieldElement(_,20)\n",
        "    product = element*k\n",
        "    Field_20.append(product.num)\n",
        "  Field_20.sort()\n",
        "  print(\"For {} we have the following Field {}\".format(k,Field_20))\n",
        "\n",
        "for _ in range(20):\n",
        "  get_field_k(_)"
      ],
      "execution_count": 18,
      "outputs": [
        {
          "output_type": "stream",
          "text": [
            "For FieldElement_20(0) we have the following Field [0, 0, 0, 0, 0, 0, 0, 0, 0, 0, 0, 0, 0, 0, 0, 0, 0, 0, 0, 0]\n",
            "For FieldElement_20(1) we have the following Field [0, 1, 2, 3, 4, 5, 6, 7, 8, 9, 10, 11, 12, 13, 14, 15, 16, 17, 18, 19]\n",
            "For FieldElement_20(2) we have the following Field [0, 0, 2, 2, 4, 4, 6, 6, 8, 8, 10, 10, 12, 12, 14, 14, 16, 16, 18, 18]\n",
            "For FieldElement_20(3) we have the following Field [0, 1, 2, 3, 4, 5, 6, 7, 8, 9, 10, 11, 12, 13, 14, 15, 16, 17, 18, 19]\n",
            "For FieldElement_20(4) we have the following Field [0, 0, 0, 0, 4, 4, 4, 4, 8, 8, 8, 8, 12, 12, 12, 12, 16, 16, 16, 16]\n",
            "For FieldElement_20(5) we have the following Field [0, 0, 0, 0, 0, 5, 5, 5, 5, 5, 10, 10, 10, 10, 10, 15, 15, 15, 15, 15]\n",
            "For FieldElement_20(6) we have the following Field [0, 0, 2, 2, 4, 4, 6, 6, 8, 8, 10, 10, 12, 12, 14, 14, 16, 16, 18, 18]\n",
            "For FieldElement_20(7) we have the following Field [0, 1, 2, 3, 4, 5, 6, 7, 8, 9, 10, 11, 12, 13, 14, 15, 16, 17, 18, 19]\n",
            "For FieldElement_20(8) we have the following Field [0, 0, 0, 0, 4, 4, 4, 4, 8, 8, 8, 8, 12, 12, 12, 12, 16, 16, 16, 16]\n",
            "For FieldElement_20(9) we have the following Field [0, 1, 2, 3, 4, 5, 6, 7, 8, 9, 10, 11, 12, 13, 14, 15, 16, 17, 18, 19]\n",
            "For FieldElement_20(10) we have the following Field [0, 0, 0, 0, 0, 0, 0, 0, 0, 0, 10, 10, 10, 10, 10, 10, 10, 10, 10, 10]\n",
            "For FieldElement_20(11) we have the following Field [0, 1, 2, 3, 4, 5, 6, 7, 8, 9, 10, 11, 12, 13, 14, 15, 16, 17, 18, 19]\n",
            "For FieldElement_20(12) we have the following Field [0, 0, 0, 0, 4, 4, 4, 4, 8, 8, 8, 8, 12, 12, 12, 12, 16, 16, 16, 16]\n",
            "For FieldElement_20(13) we have the following Field [0, 1, 2, 3, 4, 5, 6, 7, 8, 9, 10, 11, 12, 13, 14, 15, 16, 17, 18, 19]\n",
            "For FieldElement_20(14) we have the following Field [0, 0, 2, 2, 4, 4, 6, 6, 8, 8, 10, 10, 12, 12, 14, 14, 16, 16, 18, 18]\n",
            "For FieldElement_20(15) we have the following Field [0, 0, 0, 0, 0, 5, 5, 5, 5, 5, 10, 10, 10, 10, 10, 15, 15, 15, 15, 15]\n",
            "For FieldElement_20(16) we have the following Field [0, 0, 0, 0, 4, 4, 4, 4, 8, 8, 8, 8, 12, 12, 12, 12, 16, 16, 16, 16]\n",
            "For FieldElement_20(17) we have the following Field [0, 1, 2, 3, 4, 5, 6, 7, 8, 9, 10, 11, 12, 13, 14, 15, 16, 17, 18, 19]\n",
            "For FieldElement_20(18) we have the following Field [0, 0, 2, 2, 4, 4, 6, 6, 8, 8, 10, 10, 12, 12, 14, 14, 16, 16, 18, 18]\n",
            "For FieldElement_20(19) we have the following Field [0, 1, 2, 3, 4, 5, 6, 7, 8, 9, 10, 11, 12, 13, 14, 15, 16, 17, 18, 19]\n"
          ],
          "name": "stdout"
        }
      ]
    },
    {
      "cell_type": "markdown",
      "metadata": {
        "id": "2DuSjlvRLfwm",
        "colab_type": "text"
      },
      "source": [
        ">No matter what k you choose, as long as it’s greater than 0, multiplying the entire set by k will result in the same set as you started with. \n",
        "\n",
        ">`Intuitively, the fact that we have a prime order results in every \n",
        "element of a finite field being equivalent. If the order of the set was \n",
        "a composite number, multiplying the set by one of the divisors would result in a smaller set.`"
      ]
    },
    {
      "cell_type": "markdown",
      "metadata": {
        "id": "WshKrvjOMCl1",
        "colab_type": "text"
      },
      "source": [
        "#### Question\n",
        "\n",
        "For p = 7, 11, 17, 31, what is this set in F<sub>p</sub> ?\n",
        "\n",
        "{*1<sup>(p – 1)</sup> , 2<sup>(p – 1)</sup> , 3<sup>(p – 1)</sup> , 4<sup>(p – 1)</sup> , ... (p – 1)<sup>(p – 1)</sup>*}"
      ]
    },
    {
      "cell_type": "code",
      "metadata": {
        "id": "s5UUzVMSMr1m",
        "colab_type": "code",
        "colab": {
          "base_uri": "https://localhost:8080/",
          "height": 136
        },
        "outputId": "0636f3bc-e60b-4a00-a90e-657b958236d2"
      },
      "source": [
        "def get_field_k(prime):\n",
        "  Field = []\n",
        "  p = prime - 1\n",
        "  for _ in range(prime):\n",
        "    element = FieldElement(_,prime)    \n",
        "    result = element**p\n",
        "    Field.append(result.num)\n",
        "  Field.sort()\n",
        "  print(\"For {} we have the following Field {}\".format(prime,Field))\n",
        "\n",
        "p = [7,8,11,14,17,24,31]\n",
        "\n",
        "for _ in p:\n",
        "  get_field_k(_)"
      ],
      "execution_count": 20,
      "outputs": [
        {
          "output_type": "stream",
          "text": [
            "For 7 we have the following Field [0, 1, 1, 1, 1, 1, 1]\n",
            "For 8 we have the following Field [0, 0, 0, 0, 1, 3, 5, 7]\n",
            "For 11 we have the following Field [0, 1, 1, 1, 1, 1, 1, 1, 1, 1, 1]\n",
            "For 14 we have the following Field [0, 1, 2, 3, 4, 5, 6, 7, 8, 9, 10, 11, 12, 13]\n",
            "For 17 we have the following Field [0, 1, 1, 1, 1, 1, 1, 1, 1, 1, 1, 1, 1, 1, 1, 1, 1]\n",
            "For 24 we have the following Field [0, 0, 0, 0, 1, 3, 5, 7, 8, 8, 8, 8, 9, 11, 13, 15, 16, 16, 16, 16, 17, 19, 21, 23]\n",
            "For 31 we have the following Field [0, 1, 1, 1, 1, 1, 1, 1, 1, 1, 1, 1, 1, 1, 1, 1, 1, 1, 1, 1, 1, 1, 1, 1, 1, 1, 1, 1, 1, 1, 1]\n"
          ],
          "name": "stdout"
        }
      ]
    },
    {
      "cell_type": "markdown",
      "metadata": {
        "id": "uxvZZxnV1X7b",
        "colab_type": "text"
      },
      "source": [
        "<a name=\"fermats-theorem\"></a>\n",
        "\n",
        "#### Fermat's Theorem"
      ]
    },
    {
      "cell_type": "code",
      "metadata": {
        "id": "rjAEgXch1ayQ",
        "colab_type": "code",
        "colab": {}
      },
      "source": [
        ""
      ],
      "execution_count": null,
      "outputs": []
    }
  ]
}